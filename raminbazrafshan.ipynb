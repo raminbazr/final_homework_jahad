{
 "cells": [
  {
   "cell_type": "code",
   "execution_count": 20,
   "metadata": {},
   "outputs": [],
   "source": [
    "import pandas as pd\n",
    "import numpy as np\n",
    "Z= pd.read_csv('C:/Users/Ramin/Desktop/test.riazi.csv')           #test\n",
    "O= pd.read_csv('C:/Users/Ramin/Desktop/train.riazi.csv')          #train"
   ]
  },
  {
   "cell_type": "code",
   "execution_count": 22,
   "metadata": {},
   "outputs": [],
   "source": [
    "#lable endoding\n",
    "from sklearn.preprocessing import LabelEncoder    #step 1\n",
    "LE = LabelEncoder()                               #step 2\n",
    "O['sex']= LE.fit_transform(O['sex'])\n",
    "O['guardian']= LE.fit_transform(O['guardian'])\n",
    "O['schoolsup']= LE.fit_transform(O['schoolsup'])\n",
    "O['famsup']= LE.fit_transform(O['famsup'])\n",
    "O['paid']= LE.fit_transform(O['paid'])\n",
    "O['activities']= LE.fit_transform(O['activities'])\n",
    "O['nursery']= LE.fit_transform(O['nursery'])\n",
    "O['higher']= LE.fit_transform(O['higher'])\n",
    "O['internet']= LE.fit_transform(O['internet'])\n",
    "O['romantic']= LE.fit_transform(O['romantic'])"
   ]
  },
  {
   "cell_type": "code",
   "execution_count": 41,
   "metadata": {},
   "outputs": [],
   "source": [
    "#one hot encoding     ( SCHOOL , ADRESS, FAMSIZE, MJOB, FJOB, REASON )\n",
    "import re\n",
    "O_dummy = pd.get_dummies(O)\n",
    "#O_dummy.head()"
   ]
  },
  {
   "cell_type": "code",
   "execution_count": 40,
   "metadata": {},
   "outputs": [],
   "source": [
    "#drop target from train\n",
    "X = O.drop(['G3'], axis=1)\n",
    "Y = O.G3                                    #because G3 is target"
   ]
  },
  {
   "cell_type": "code",
   "execution_count": 49,
   "metadata": {},
   "outputs": [],
   "source": [
    "#Normalization\n",
    "from sklearn.preprocessing import MinMaxScaler , StandardScaler\n",
    "MMS = MinMaxScaler()\n",
    "MMS.fit(X)\n",
    "x_normal = MMS.transform(X)\n",
    "x_normal = pd.DataFrameData(x_normal,columns = X.columns)"
   ]
  },
  {
   "cell_type": "code",
   "execution_count": 54,
   "metadata": {},
   "outputs": [],
   "source": [
    "#pca\n",
    "from sklearn.decomposition import PCA\n",
    "pca = PCA()\n",
    "pca.fit(x_normal)\n",
    "X_pca = pca.transform(x_normal )\n",
    "X_pca = pd.DataFrameData(X_pca,columns = X.columns)"
   ]
  },
  {
   "cell_type": "code",
   "execution_count": 56,
   "metadata": {},
   "outputs": [],
   "source": [
    "pca.explained_variance_ratio_.cunsum()   #here we show how many pca is good for there"
   ]
  },
  {
   "cell_type": "code",
   "execution_count": null,
   "metadata": {},
   "outputs": [],
   "source": [
    "#test & train\n",
    "from sklearn.model_selection import train_test_split\n",
    "Xtrain, Xtest, Ytrain, Ytest = train_test_split(X, Y)"
   ]
  },
  {
   "cell_type": "code",
   "execution_count": null,
   "metadata": {},
   "outputs": [],
   "source": [
    "#descition tree\n",
    "from sklearn.tree import DecisionTreeRegressor\n",
    "DT = DecisionTreeRegressor (criterion='entropy', max_depth=4,\n",
    "                            min_samples_split=5, min_samples_leaf=3,\n",
    "                            class_weight={0:0.3, 1:0.7}, random_state=8)\n",
    "DT.fit(Xtrain,Ytrain)\n",
    "pred = DT.predict(Xtest)\n",
    "pred == Ytest\n",
    "acc = accuracy_score(Ytest, pred)\n",
    "rec = recall_score(Ytest, pred, pos_label=0)\n",
    "prec = precision_score(Ytest, pred, pos_label=0)\n",
    "fm = f1_score(Ytest, pred, pos_label=0)\n",
    "conf = confusion_matrix(Ytest, pred)\n",
    "print(acc, rec, prec, fm)\n",
    "print(conf)"
   ]
  }
 ],
 "metadata": {
  "kernelspec": {
   "display_name": "Python 3",
   "language": "python",
   "name": "python3"
  },
  "language_info": {
   "codemirror_mode": {
    "name": "ipython",
    "version": 3
   },
   "file_extension": ".py",
   "mimetype": "text/x-python",
   "name": "python",
   "nbconvert_exporter": "python",
   "pygments_lexer": "ipython3",
   "version": "3.7.4"
  }
 },
 "nbformat": 4,
 "nbformat_minor": 2
}
